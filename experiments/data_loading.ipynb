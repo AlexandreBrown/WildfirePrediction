{
 "cells": [
  {
   "cell_type": "code",
   "execution_count": 3,
   "metadata": {},
   "outputs": [],
   "source": [
    "from datasets.wildfire_dataset import WildfireDataset\n",
    "from osgeo import gdal\n",
    "from pathlib import Path"
   ]
  },
  {
   "cell_type": "code",
   "execution_count": 4,
   "metadata": {},
   "outputs": [
    {
     "name": "stderr",
     "output_type": "stream",
     "text": [
      "/home/user/micromamba/envs/wildfire/lib/python3.9/site-packages/osgeo/gdal.py:312: FutureWarning: Neither gdal.UseExceptions() nor gdal.DontUseExceptions() has been explicitly called. In GDAL 4.0, exceptions will be enabled by default.\n",
      "  warnings.warn(\n"
     ]
    }
   ],
   "source": [
    "tmp_tiff_path = Path(\"../data/tmp/tmp.tiff\")\n",
    "driver = gdal.GetDriverByName(\"GTiff\")\n",
    "dataset = driver.Create(str(tmp_tiff_path), 100, 100, 1, gdal.GDT_Float32)"
   ]
  },
  {
   "cell_type": "code",
   "execution_count": 5,
   "metadata": {},
   "outputs": [],
   "source": [
    "dataset = WildfireDataset(\n",
    "    input_folder_path=tmp_tiff_path.parent,\n",
    "    target_folder_path=None\n",
    ")"
   ]
  },
  {
   "cell_type": "code",
   "execution_count": 6,
   "metadata": {},
   "outputs": [
    {
     "name": "stdout",
     "output_type": "stream",
     "text": [
      "input_data_numpy: (100, 100)\n",
      "input_data: torch.Size([1, 100, 100])\n"
     ]
    }
   ],
   "source": [
    "r = dataset[0]"
   ]
  },
  {
   "cell_type": "code",
   "execution_count": 34,
   "metadata": {},
   "outputs": [
    {
     "name": "stdout",
     "output_type": "stream",
     "text": [
      "input_data_period_folder_path: my_path_1/2001_2001\n",
      "train_period_folder_name: 2002_2002\n",
      "train_period_folder_name: 2003_2003\n",
      "\n",
      "input_data_period_folder_path: my_path_2/2002_2002\n",
      "train_period_folder_name: 2002_2002\n",
      "MATCH FOUND! my_path_2/2002_2002 == 2002_2002\n",
      "\n",
      "input_data_period_folder_path: my_path_1/2003_2003\n",
      "train_period_folder_name: 2002_2002\n",
      "train_period_folder_name: 2003_2003\n",
      "MATCH FOUND! my_path_1/2003_2003 == 2003_2003\n",
      "\n"
     ]
    }
   ],
   "source": [
    "input_data_periods_folders_paths = [\n",
    "    'my_path_1/2001_2001',\n",
    "    'my_path_2/2002_2002',\n",
    "    'my_path_1/2003_2003',\n",
    "]\n",
    "\n",
    "train_periods = [range(2002, 2003), range(2003, 2004)]\n",
    "\n",
    "train_input_data_folders_paths = []\n",
    "test_input_data_folders_paths = []\n",
    "\n",
    "for input_data_period_folder_path in input_data_periods_folders_paths:\n",
    "    print(f\"input_data_period_folder_path: {input_data_period_folder_path}\")\n",
    "    is_train_period = False\n",
    "    folder_path = Path(input_data_period_folder_path)\n",
    "    \n",
    "    for train_period in train_periods:\n",
    "        train_period_folder_name = f\"{train_period[0]}_{train_period[-1]}\"\n",
    "        \n",
    "        print(f\"train_period_folder_name: {train_period_folder_name}\")\n",
    "        if folder_path.stem == train_period_folder_name:\n",
    "            print(f\"MATCH FOUND! {input_data_period_folder_path} == {train_period_folder_name}\")\n",
    "            train_input_data_folders_paths.append(folder_path)\n",
    "            is_train_period = True\n",
    "            break\n",
    "    if not is_train_period:\n",
    "        test_input_data_folders_paths.append(folder_path)\n",
    "    \n",
    "    print(\"\")"
   ]
  },
  {
   "cell_type": "code",
   "execution_count": 35,
   "metadata": {},
   "outputs": [
    {
     "data": {
      "text/plain": [
       "[PosixPath('my_path_2/2002_2002'), PosixPath('my_path_1/2003_2003')]"
      ]
     },
     "execution_count": 35,
     "metadata": {},
     "output_type": "execute_result"
    }
   ],
   "source": [
    "train_input_data_folders_paths"
   ]
  },
  {
   "cell_type": "code",
   "execution_count": 36,
   "metadata": {},
   "outputs": [
    {
     "data": {
      "text/plain": [
       "[PosixPath('my_path_1/2001_2001')]"
      ]
     },
     "execution_count": 36,
     "metadata": {},
     "output_type": "execute_result"
    }
   ],
   "source": [
    "test_input_data_folders_paths"
   ]
  }
 ],
 "metadata": {
  "kernelspec": {
   "display_name": "Python 3",
   "language": "python",
   "name": "python3"
  },
  "language_info": {
   "codemirror_mode": {
    "name": "ipython",
    "version": 3
   },
   "file_extension": ".py",
   "mimetype": "text/x-python",
   "name": "python",
   "nbconvert_exporter": "python",
   "pygments_lexer": "ipython3",
   "version": "3.9.19"
  }
 },
 "nbformat": 4,
 "nbformat_minor": 2
}
