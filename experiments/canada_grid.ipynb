{
 "cells": [
  {
   "cell_type": "code",
   "execution_count": null,
   "metadata": {},
   "outputs": [],
   "source": [
    "import matplotlib.pyplot as plt\n",
    "from boundaries.canada_boundary import CanadaBoundary\n",
    "from data_sources.canada_boundary_data_source import CanadaBoundaryDataSource\n",
    "from grid.square_meters_grid import SquareMetersGrid"
   ]
  },
  {
   "cell_type": "markdown",
   "metadata": {},
   "source": [
    "# Preview Canada Boundary"
   ]
  },
  {
   "cell_type": "code",
   "execution_count": null,
   "metadata": {},
   "outputs": [],
   "source": [
    "canada = CanadaBoundary(CanadaBoundaryDataSource())\n",
    "canada.load(exclude_area_above_60_degree=False)\n",
    "canada.boundary"
   ]
  },
  {
   "cell_type": "code",
   "execution_count": null,
   "metadata": {},
   "outputs": [],
   "source": [
    "ax = canada.boundary.plot()\n",
    "ax.set_title(f\"Canada Boundary (EPSG:{canada.boundary.crs.to_epsg()})\")"
   ]
  },
  {
   "cell_type": "code",
   "execution_count": null,
   "metadata": {},
   "outputs": [],
   "source": [
    "canada = CanadaBoundary(CanadaBoundaryDataSource())\n",
    "canada.load(exclude_area_above_60_degree=True)\n",
    "canada.boundary"
   ]
  },
  {
   "cell_type": "code",
   "execution_count": null,
   "metadata": {},
   "outputs": [],
   "source": [
    "ax = canada.boundary.plot()\n",
    "ax.set_title(f\"Restricted Canada Boundary (EPSG:{canada.boundary.crs.to_epsg()})\")"
   ]
  },
  {
   "cell_type": "markdown",
   "metadata": {},
   "source": [
    "# Grid Area of Interest"
   ]
  },
  {
   "cell_type": "markdown",
   "metadata": {},
   "source": [
    "## Canada-wise Grid"
   ]
  },
  {
   "cell_type": "code",
   "execution_count": null,
   "metadata": {},
   "outputs": [],
   "source": [
    "grid_250_512 = SquareMetersGrid(tile_resolution_in_meters=250, tile_length_in_pixels=512)\n",
    "\n",
    "tiles_250_512 = grid_250_512.get_tiles(canada.boundary)\n",
    "\n",
    "fig, ax = plt.subplots(figsize=(10, 10))\n",
    "tiles_250_512.boundary.plot(ax=ax, edgecolor='black', facecolor='none')\n",
    "canada.boundary.boundary.plot(ax=ax, edgecolor='red')\n",
    "ax.set_title(f\"Grid Tiles ({int(grid_250_512.get_tile_size_in_km())}km x {int(grid_250_512.get_tile_size_in_km())}km) that Intersect with Canada ({len(tiles_250_512)} tiles)\")\n",
    "plt.show()"
   ]
  },
  {
   "cell_type": "code",
   "execution_count": null,
   "metadata": {},
   "outputs": [],
   "source": [
    "grid_250_1024 = SquareMetersGrid(tile_resolution_in_meters=250, tile_length_in_pixels=1024)\n",
    "\n",
    "tiles_250_1024 = grid_250_1024.get_tiles(canada.boundary)\n",
    "\n",
    "fig, ax = plt.subplots(figsize=(10, 10))\n",
    "tiles_250_1024.boundary.plot(ax=ax, edgecolor='black', facecolor='none')\n",
    "canada.boundary.boundary.plot(ax=ax, edgecolor='red')\n",
    "ax.set_title(f\"Grid Tiles ({int(grid_250_1024.get_tile_size_in_km())}km x {int(grid_250_1024.get_tile_size_in_km())}km) that Intersect with Canada ({len(tiles_250_1024)} tiles)\")\n",
    "plt.show()"
   ]
  },
  {
   "cell_type": "code",
   "execution_count": null,
   "metadata": {},
   "outputs": [],
   "source": [
    "grid_250_2048 = SquareMetersGrid(tile_resolution_in_meters=250, tile_length_in_pixels=2048)\n",
    "\n",
    "tiles_250_2048 = grid_250_2048.get_tiles(canada.boundary)\n",
    "\n",
    "fig, ax = plt.subplots(figsize=(10, 10))\n",
    "tiles_250_2048.boundary.plot(ax=ax, edgecolor='black', facecolor='none')\n",
    "canada.boundary.boundary.plot(ax=ax, edgecolor='red')\n",
    "ax.set_title(f\"Grid Tiles ({int(grid_250_2048.get_tile_size_in_km())}km x {int(grid_250_2048.get_tile_size_in_km())}km) that Intersect with Canada ({len(tiles_250_2048)} tiles)\")\n",
    "plt.show()"
   ]
  },
  {
   "cell_type": "markdown",
   "metadata": {},
   "source": [
    "# Reprojection"
   ]
  },
  {
   "cell_type": "code",
   "execution_count": null,
   "metadata": {},
   "outputs": [],
   "source": [
    "target_epsg = 4326\n",
    "canada_boundary_reprojected = canada.boundary.to_crs(epsg=target_epsg)"
   ]
  },
  {
   "cell_type": "code",
   "execution_count": null,
   "metadata": {},
   "outputs": [],
   "source": [
    "fig, ax = plt.subplots(figsize=(10, 10))\n",
    "tiles_250_512.to_crs(epsg=target_epsg).boundary.plot(ax=ax, edgecolor='black', facecolor='none')\n",
    "ax = canada_boundary_reprojected.boundary.plot(ax=ax, edgecolor='red')\n",
    "ax.set_title(f\"Reprojected Canada & Tiles 250mx512 (EPSG:{canada_boundary_reprojected.boundary.crs.to_epsg()})\")\n",
    "plt.show()"
   ]
  },
  {
   "cell_type": "code",
   "execution_count": null,
   "metadata": {},
   "outputs": [],
   "source": [
    "fig, ax = plt.subplots(figsize=(10, 10))\n",
    "tiles_250_1024.to_crs(epsg=target_epsg).boundary.plot(ax=ax, edgecolor='black', facecolor='none')\n",
    "ax = canada_boundary_reprojected.boundary.plot(ax=ax, edgecolor='red')\n",
    "ax.set_title(f\"Reprojected Canada & Tiles 250mx1024 (EPSG:{canada_boundary_reprojected.boundary.crs.to_epsg()})\")\n",
    "plt.show()"
   ]
  },
  {
   "cell_type": "code",
   "execution_count": null,
   "metadata": {},
   "outputs": [],
   "source": [
    "fig, ax = plt.subplots(figsize=(10, 10))\n",
    "tiles_250_2048.to_crs(epsg=target_epsg).boundary.plot(ax=ax, edgecolor='black', facecolor='none')\n",
    "ax = canada_boundary_reprojected.boundary.plot(ax=ax, edgecolor='red')\n",
    "ax.set_title(f\"Reprojected Canada & Tiles 250mx2048 (EPSG:{canada_boundary_reprojected.boundary.crs.to_epsg()})\")\n",
    "plt.show()"
   ]
  }
 ],
 "metadata": {
  "kernelspec": {
   "display_name": "Python 3",
   "language": "python",
   "name": "python3"
  },
  "language_info": {
   "codemirror_mode": {
    "name": "ipython",
    "version": 3
   },
   "file_extension": ".py",
   "mimetype": "text/x-python",
   "name": "python",
   "nbconvert_exporter": "python",
   "pygments_lexer": "ipython3",
   "version": "3.9.19"
  }
 },
 "nbformat": 4,
 "nbformat_minor": 2
}
