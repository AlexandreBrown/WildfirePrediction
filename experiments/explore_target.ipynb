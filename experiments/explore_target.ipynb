{
 "cells": [
  {
   "cell_type": "code",
   "execution_count": null,
   "metadata": {},
   "outputs": [],
   "source": [
    "import matplotlib.pyplot as plt\n",
    "import imageio.v3 as iio\n",
    "import imageio\n",
    "import geopandas as gpd\n",
    "import os\n",
    "import io\n",
    "from data_sources.nbac_fire_data_source import NbacFireDataSource\n",
    "from boundaries.canada_boundary import CanadaBoundary\n",
    "from data_sources.canada_boundary_data_source import CanadaBoundaryDataSource\n",
    "from targets.fire_occurrence_target import FireOccurrenceTarget\n",
    "from pathlib import Path\n",
    "from osgeo import gdal\n",
    "from IPython.display import Image, display"
   ]
  },
  {
   "cell_type": "code",
   "execution_count": null,
   "metadata": {},
   "outputs": [],
   "source": [
    "years = range(2001, 2024)\n",
    "target_epsg = 3347\n",
    "\n",
    "canada_output_path = Path(\"../data/canada_boundary/\")\n",
    "canada = CanadaBoundary(CanadaBoundaryDataSource(canada_output_path))\n",
    "canada.load(exclude_area_above_60_degree=False)\n",
    "canada.boundary = canada.boundary.to_crs(epsg=target_epsg)\n",
    "\n",
    "raw_data_path = Path(\"../data/raw/\")\n",
    "fire_data_source = NbacFireDataSource(raw_data_path)"
   ]
  },
  {
   "cell_type": "markdown",
   "metadata": {},
   "source": [
    "# Preview NBAC Fire Polygons"
   ]
  },
  {
   "cell_type": "code",
   "execution_count": null,
   "metadata": {},
   "outputs": [],
   "source": [
    "def get_fire_polygons_img(year, target_epsg):\n",
    "    fire_polygons = fire_data_source.download(year)\n",
    "    fire_polygons = fire_polygons.to_crs(epsg=target_epsg)\n",
    "\n",
    "    fig, ax = plt.subplots(figsize=(7, 7))\n",
    "    fire_polygons.plot(ax=ax, edgecolor='k', facecolor='none')\n",
    "    canada.boundary.plot(ax=ax, edgecolor='r', facecolor='none')\n",
    "    ax.set_title(f\"NBAC Fire Polygons (year {year})\")\n",
    "    \n",
    "    buf = io.BytesIO()\n",
    "    plt.savefig(buf, format='png')\n",
    "    plt.close(fig)\n",
    "    buf.seek(0)\n",
    "    return buf\n",
    "\n",
    "images = [iio.imread(get_fire_polygons_img(year, target_epsg)) for year in years]\n",
    "\n",
    "gif_buf = io.BytesIO()\n",
    "imageio.mimsave(gif_buf, images, format='GIF', fps=1, loop=0)\n",
    "gif_buf.seek(0)\n",
    "\n",
    "display(Image(data=gif_buf.getvalue(), format='gif'))"
   ]
  },
  {
   "cell_type": "markdown",
   "metadata": {},
   "source": [
    "# Preview Fire Occurrences Target"
   ]
  },
  {
   "cell_type": "code",
   "execution_count": null,
   "metadata": {},
   "outputs": [],
   "source": [
    "resolution_in_meters = 250\n",
    "fire_occurrence_target = FireOccurrenceTarget(\n",
    "    fire_data_source=fire_data_source,\n",
    "    canada=canada,\n",
    "    resolution_in_meters=resolution_in_meters,\n",
    "    target_epsg_code=target_epsg,\n",
    "    output_folder_path=raw_data_path\n",
    ")\n",
    "\n",
    "def get_fire_occurrence_target_img(fire_occurrence_target: FireOccurrenceTarget, year: int):\n",
    "    fire_occurrence_target_file_path = fire_occurrence_target.generate(year)\n",
    "    fire_occurrence_target_ds = gdal.Open(str(fire_occurrence_target_file_path.resolve()))\n",
    "    fire_occurrence_target_band = fire_occurrence_target_ds.GetRasterBand(1)\n",
    "    fire_occurrence_target_data = fire_occurrence_target_band.ReadAsArray()\n",
    "\n",
    "    fig, ax = plt.subplots(figsize=(7, 7))\n",
    "    ax.imshow(fire_occurrence_target_data, cmap='hot', interpolation='nearest')\n",
    "    ax.set_title(f\"Fire Occurrence Target (year {year}) at resolution {resolution_in_meters}m\")\n",
    "\n",
    "    buf = io.BytesIO()\n",
    "    plt.savefig(buf, format='png')\n",
    "    plt.close(fig)\n",
    "    buf.seek(0)\n",
    "    return buf\n",
    "\n",
    "images = [iio.imread(get_fire_occurrence_target_img(fire_occurrence_target, year)) for year in years]\n",
    "\n",
    "gif_buf = io.BytesIO()\n",
    "imageio.mimsave(gif_buf, images, format='GIF', fps=1, loop=0)\n",
    "gif_buf.seek(0)\n",
    "\n",
    "display(Image(data=gif_buf.getvalue(), format='gif'))"
   ]
  }
 ],
 "metadata": {
  "kernelspec": {
   "display_name": "Python 3",
   "language": "python",
   "name": "python3"
  },
  "language_info": {
   "codemirror_mode": {
    "name": "ipython",
    "version": 3
   },
   "file_extension": ".py",
   "mimetype": "text/x-python",
   "name": "python",
   "nbconvert_exporter": "python",
   "pygments_lexer": "ipython3",
   "version": "3.9.19"
  }
 },
 "nbformat": 4,
 "nbformat_minor": 2
}
