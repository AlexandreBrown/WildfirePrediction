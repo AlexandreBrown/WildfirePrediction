{
 "cells": [
  {
   "cell_type": "code",
   "execution_count": null,
   "metadata": {},
   "outputs": [],
   "source": [
    "import getpass\n",
    "from data_sources.nasa_earth_data_api import NasaEarthDataApi"
   ]
  },
  {
   "cell_type": "markdown",
   "metadata": {},
   "source": [
    "# Login to NASA Earthdata"
   ]
  },
  {
   "cell_type": "code",
   "execution_count": null,
   "metadata": {},
   "outputs": [],
   "source": [
    "nasa_earth_data_api = NasaEarthDataApi()\n",
    "nasa_earthdata_user = getpass.getpass(prompt = 'Enter NASA Earthdata Login Username: ')      \n",
    "nasa_earthdata_password = getpass.getpass(prompt = 'Enter NASA Earthdata Login Password: ') \n",
    "\n",
    "nasa_earth_data_api.login(username=nasa_earthdata_user, password=nasa_earthdata_password)\n",
    "\n",
    "del nasa_earthdata_user, nasa_earthdata_password"
   ]
  },
  {
   "cell_type": "markdown",
   "metadata": {},
   "source": [
    "# Explore Products"
   ]
  },
  {
   "cell_type": "code",
   "execution_count": null,
   "metadata": {},
   "outputs": [],
   "source": [
    "nasa_earth_data_api.load_products()\n",
    "nasa_earth_data_api.display_products(nasa_earth_data_api.products)"
   ]
  },
  {
   "cell_type": "markdown",
   "metadata": {},
   "source": [
    "# Show All Products with Description Containing Keyword"
   ]
  },
  {
   "cell_type": "markdown",
   "metadata": {},
   "source": [
    "## Vegetation\n",
    "Below is all products with a description that contains the keyword \"Vegetation\""
   ]
  },
  {
   "cell_type": "code",
   "execution_count": null,
   "metadata": {},
   "outputs": [],
   "source": [
    "nasa_earth_data_api.display_products_with_description(keyword=\"vegetation\")"
   ]
  },
  {
   "cell_type": "code",
   "execution_count": null,
   "metadata": {},
   "outputs": [],
   "source": [
    "nasa_earth_data_api.display_products_with_description(keyword=\"leaf\")"
   ]
  },
  {
   "cell_type": "markdown",
   "metadata": {},
   "source": [
    "## Elevation\n",
    "Below is all products with a description that contains the keyword \"Elevation\""
   ]
  },
  {
   "cell_type": "code",
   "execution_count": null,
   "metadata": {},
   "outputs": [],
   "source": [
    "nasa_earth_data_api.display_products_with_description(keyword=\"elevation\")"
   ]
  },
  {
   "cell_type": "markdown",
   "metadata": {},
   "source": [
    "# Weather"
   ]
  },
  {
   "cell_type": "code",
   "execution_count": null,
   "metadata": {},
   "outputs": [],
   "source": [
    "nasa_earth_data_api.display_products_with_description(keyword=\"weather\")"
   ]
  },
  {
   "cell_type": "code",
   "execution_count": null,
   "metadata": {},
   "outputs": [],
   "source": [
    "nasa_earth_data_api.display_products_with_description(keyword=\"land surface temperature\")"
   ]
  },
  {
   "cell_type": "markdown",
   "metadata": {},
   "source": [
    "# Explore Product Layers"
   ]
  },
  {
   "cell_type": "code",
   "execution_count": null,
   "metadata": {},
   "outputs": [],
   "source": [
    "nasa_earth_data_api.select_product('MOD13Q1.061')\n",
    "nasa_earth_data_api.select_product('MOD44B.061')\n",
    "nasa_earth_data_api.select_product('MOD44W.061')\n",
    "nasa_earth_data_api.select_product('MOD15A2H.061')\n",
    "nasa_earth_data_api.select_product('MOD11A2.061')\n",
    "nasa_earth_data_api.select_product('MOD14A2.061')\n",
    "nasa_earth_data_api.select_product('MOD16A3GF.061')\n",
    "nasa_earth_data_api.select_product('DAYMET.004')\n",
    "nasa_earth_data_api.select_product('NASADEM_NC.001')"
   ]
  },
  {
   "cell_type": "code",
   "execution_count": null,
   "metadata": {},
   "outputs": [],
   "source": [
    "nasa_earth_data_api.display_selected_products_layers()"
   ]
  }
 ],
 "metadata": {
  "kernelspec": {
   "display_name": "Python 3",
   "language": "python",
   "name": "python3"
  },
  "language_info": {
   "codemirror_mode": {
    "name": "ipython",
    "version": 3
   },
   "file_extension": ".py",
   "mimetype": "text/x-python",
   "name": "python",
   "nbconvert_exporter": "python",
   "pygments_lexer": "ipython3",
   "version": "3.9.19"
  }
 },
 "nbformat": 4,
 "nbformat_minor": 2
}
