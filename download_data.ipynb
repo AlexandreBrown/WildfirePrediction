{
 "cells": [
  {
   "cell_type": "code",
   "execution_count": null,
   "metadata": {},
   "outputs": [],
   "source": [
    "import json\n",
    "import time\n",
    "import calendar\n",
    "import getpass\n",
    "import requests\n",
    "import numpy as np\n",
    "import geopandas as gpd\n",
    "import zipfile\n",
    "import io\n",
    "import matplotlib.pyplot as plt\n",
    "from pprint import pprint\n",
    "from osgeo import gdal\n",
    "from shapely.geometry import box\n",
    "from pathlib import Path"
   ]
  },
  {
   "cell_type": "markdown",
   "metadata": {},
   "source": [
    "# Login to NASA Earthdata"
   ]
  },
  {
   "cell_type": "code",
   "execution_count": null,
   "metadata": {},
   "outputs": [],
   "source": [
    "nasa_earthdata_api = 'https://appeears.earthdatacloud.nasa.gov/api/'\n",
    "\n",
    "nasa_earthdata_user = getpass.getpass(prompt = 'Enter NASA Earthdata Login Username: ')      \n",
    "nasa_earthdata_password = getpass.getpass(prompt = 'Enter NASA Earthdata Login Password: ') \n",
    "\n",
    "token_response = requests.post(f\"{nasa_earthdata_api}login\", auth=(nasa_earthdata_user, nasa_earthdata_password)).json()\n",
    "\n",
    "token = token_response['token']                      \n",
    "head = {'Authorization': f\"Bearer {token}\"}\n",
    "\n",
    "del nasa_earthdata_user, nasa_earthdata_password"
   ]
  },
  {
   "cell_type": "markdown",
   "metadata": {},
   "source": [
    "# Explore Products"
   ]
  },
  {
   "cell_type": "code",
   "execution_count": null,
   "metadata": {},
   "outputs": [],
   "source": [
    "product_response = requests.get(f\"{nasa_earthdata_api}product\").json()                         \n",
    "print(f\"AppEEARS currently supports {len(product_response)} products.\") \n",
    "products = {p['ProductAndVersion']: p for p in product_response}"
   ]
  },
  {
   "cell_type": "code",
   "execution_count": null,
   "metadata": {},
   "outputs": [],
   "source": [
    "products"
   ]
  },
  {
   "cell_type": "markdown",
   "metadata": {},
   "source": [
    "# Show All Products with Description Containing Keyword"
   ]
  },
  {
   "cell_type": "code",
   "execution_count": null,
   "metadata": {},
   "outputs": [],
   "source": [
    "def get_products_with_description(keyword):\n",
    "    for p in {p['ProductAndVersion'] for p in product_response}:                                            \n",
    "        if keyword in products[p]['Description']:\n",
    "            pprint(products[p])"
   ]
  },
  {
   "cell_type": "markdown",
   "metadata": {},
   "source": [
    "## Vegetation\n",
    "Below is all products with a description that contains the keyword \"Vegetation\""
   ]
  },
  {
   "cell_type": "code",
   "execution_count": null,
   "metadata": {},
   "outputs": [],
   "source": [
    "get_products_with_description(keyword='Vegetation')"
   ]
  },
  {
   "cell_type": "markdown",
   "metadata": {},
   "source": [
    "## Elevation\n",
    "Below is all products with a description that contains the keyword \"Elevation\""
   ]
  },
  {
   "cell_type": "code",
   "execution_count": null,
   "metadata": {},
   "outputs": [],
   "source": [
    "get_products_with_description(keyword='Elevation')"
   ]
  },
  {
   "cell_type": "markdown",
   "metadata": {},
   "source": [
    "# Weather"
   ]
  },
  {
   "cell_type": "code",
   "execution_count": null,
   "metadata": {},
   "outputs": [],
   "source": [
    "get_products_with_description(keyword='Weather')"
   ]
  },
  {
   "cell_type": "markdown",
   "metadata": {},
   "source": [
    "# Select Products"
   ]
  },
  {
   "cell_type": "code",
   "execution_count": null,
   "metadata": {},
   "outputs": [],
   "source": [
    "selected_products = [\n",
    "    products['MOD13A3.061'], \n",
    "    products['MOD15A2H.061'], \n",
    "    products['MOD11A2.061'],\n",
    "    products['MOD14A2.061'],\n",
    "    products['MCD64A1.061'],\n",
    "    products['MOD16A2GF.061'],\n",
    "    products['DAYMET.004'],\n",
    "    products['NASADEM_NC.001'],\n",
    "    products['ASTWBD_ATTNC.001'],\n",
    "]\n",
    "print(\"Selected products: \")\n",
    "pprint(selected_products)"
   ]
  },
  {
   "cell_type": "markdown",
   "metadata": {},
   "source": [
    "# Explore Product Layers"
   ]
  },
  {
   "cell_type": "code",
   "execution_count": null,
   "metadata": {},
   "outputs": [],
   "source": [
    "for selected_product in selected_products:\n",
    "    selected_product_layers = requests.get(f\"{nasa_earthdata_api}product/{selected_product['ProductAndVersion']}\").json()\n",
    "    print(f\"{selected_product['ProductAndVersion']} Layer \")\n",
    "    pprint(list(selected_product_layers.keys()))"
   ]
  },
  {
   "cell_type": "markdown",
   "metadata": {},
   "source": [
    "# Add Layers of Interest"
   ]
  },
  {
   "cell_type": "code",
   "execution_count": null,
   "metadata": {},
   "outputs": [],
   "source": [
    "layers = [\n",
    "    ('MOD13A3.061', '_1_km_monthly_NDVI'),\n",
    "    ('MOD13A3.061', '_1_km_monthly_EVI'), \n",
    "    ('MOD15A2H.061', 'Lai_500m'),\n",
    "    ('MOD11A2.061', 'LST_Day_1km'),\n",
    "    ('MOD14A2.061', 'FireMask'),\n",
    "    ('MCD64A1.061', 'Burn_Date'),\n",
    "    ('MCD64A1.061', 'First_Day'),\n",
    "    ('MCD64A1.061', 'Last_Day'),\n",
    "    ('MOD16A2GF.061', 'ET_500m'),\n",
    "    ('DAYMET.004', 'dayl'),\n",
    "    ('DAYMET.004', 'prcp'),\n",
    "    ('DAYMET.004', 'tmax'),\n",
    "    ('DAYMET.004', 'tmin'),\n",
    "    ('DAYMET.004', 'vp'),\n",
    "    ('NASADEM_NC.001', 'NASADEM_HGT'),\n",
    "    ('ASTWBD_ATTNC.001', 'ASTWBD_att')\n",
    "]\n",
    "products_layers = [{'product': l[0], 'layer': l[1]} for l in layers]\n",
    "products_layers"
   ]
  },
  {
   "cell_type": "markdown",
   "metadata": {},
   "source": [
    "# Explore Available Projections"
   ]
  },
  {
   "cell_type": "code",
   "execution_count": null,
   "metadata": {},
   "outputs": [],
   "source": [
    "projections = requests.get(f\"{nasa_earthdata_api}spatial/proj\").json()\n",
    "pprint(projections)\n",
    "projs = {}                                  \n",
    "for p in projections: \n",
    "    projs[p['Name']] = p \n",
    "pprint(list(projs.keys()))"
   ]
  },
  {
   "cell_type": "markdown",
   "metadata": {},
   "source": [
    "# Define Area of Interest"
   ]
  },
  {
   "cell_type": "code",
   "execution_count": null,
   "metadata": {},
   "outputs": [],
   "source": [
    "canada_boundary_shapefile_path = 'data/canada_boundary/lpr_000b16a_e.shp'\n",
    "\n",
    "canada_boundary = gpd.read_file(canada_boundary_shapefile_path)\n",
    "canada_boundary"
   ]
  },
  {
   "cell_type": "code",
   "execution_count": null,
   "metadata": {},
   "outputs": [],
   "source": [
    "print(f\"Number of coordinates : {canada_boundary.count_coordinates().sum():,}\")\n",
    "ax = canada_boundary.plot()\n",
    "ax.set_title(f\"Canada Boundary (EPSG:{canada_boundary.crs.to_epsg()})\")"
   ]
  },
  {
   "cell_type": "markdown",
   "metadata": {},
   "source": [
    "## Remove Area Not of Interest"
   ]
  },
  {
   "cell_type": "code",
   "execution_count": null,
   "metadata": {},
   "outputs": [],
   "source": [
    "canada_boundary = canada_boundary[(canada_boundary['PRUID'] != '60') & (canada_boundary['PRUID'] != '61') & (canada_boundary['PRUID'] != '62')]\n",
    "print(f\"Number of coordinates : {canada_boundary.count_coordinates().sum():,}\")\n",
    "ax = canada_boundary.plot()\n",
    "ax.set_title(f\"Canada Boundary (Restricted to South of 60deg) (EPSG:{canada_boundary.crs.to_epsg()})\")"
   ]
  },
  {
   "cell_type": "markdown",
   "metadata": {},
   "source": [
    "# Grid Area of Interest"
   ]
  },
  {
   "cell_type": "markdown",
   "metadata": {},
   "source": [
    "## Canada-wise Grid"
   ]
  },
  {
   "cell_type": "code",
   "execution_count": null,
   "metadata": {},
   "outputs": [],
   "source": [
    "minx, miny, maxx, maxy = canada_boundary.total_bounds\n",
    "\n",
    "grid_size_in_meters = 256_000.0 # 500m resolution * 512 pixels = 256 000 meters per side\n",
    "\n",
    "x_coords = np.arange(minx, maxx, grid_size_in_meters)\n",
    "y_coords = np.arange(miny, maxy, grid_size_in_meters)\n",
    "grid_cells = [box(x, y, x + grid_size_in_meters, y + grid_size_in_meters) for x in x_coords for y in y_coords]\n",
    "\n",
    "grid = gpd.GeoDataFrame({'geometry': grid_cells}, crs=canada_boundary.crs)\n",
    "\n",
    "grid_within_boundary = grid[grid.intersects(canada_boundary.union_all())]\n",
    "\n",
    "fig, ax = plt.subplots(figsize=(10, 10))\n",
    "grid_within_boundary.boundary.plot(ax=ax, edgecolor='black', facecolor='none')\n",
    "canada_boundary.boundary.plot(ax=ax, edgecolor='red')\n",
    "ax.set_title(f\"Grid Tiles that Intersect with Canada ({len(grid_within_boundary)} tiles)\")\n",
    "plt.show()"
   ]
  },
  {
   "cell_type": "markdown",
   "metadata": {},
   "source": [
    "# Reproject Area of Interest"
   ]
  },
  {
   "cell_type": "code",
   "execution_count": null,
   "metadata": {},
   "outputs": [],
   "source": [
    "target_epsg = int(projs['geographic']['EPSG'])\n",
    "canada_boundary = canada_boundary.to_crs(epsg=target_epsg)\n",
    "grid_within_boundary = grid_within_boundary.to_crs(epsg=target_epsg)\n",
    "\n",
    "fig, ax = plt.subplots(figsize=(10, 10))\n",
    "grid_within_boundary.boundary.plot(ax=ax, edgecolor='black', facecolor='none')\n",
    "ax = canada_boundary.plot(ax=ax, edgecolor='red')\n",
    "ax.set_title(f\"Reprojected Canada & Tiles (EPSG:{canada_boundary.crs.to_epsg()})\")\n",
    "plt.show()"
   ]
  },
  {
   "cell_type": "markdown",
   "metadata": {},
   "source": [
    "# Submit Task"
   ]
  },
  {
   "cell_type": "code",
   "execution_count": null,
   "metadata": {},
   "outputs": [],
   "source": [
    "def submit_task(\n",
    "    grid_within_boundary: gpd.GeoDataFrame, \n",
    "    start_date_mm_dd_yyyy: str, \n",
    "    end_date_mm_dd_yyyy: str,\n",
    "    product_layer: dict,\n",
    "    task_name: str\n",
    ") -> dict:\n",
    "    geo_area_json = json.loads(grid_within_boundary.to_json())\n",
    "    task_type = \"area\" # 'area', 'point'\n",
    "    output_format = 'netcdf4' # 'netcdf4', 'geotiff'\n",
    "    output_projection = projs['geographic']['Name']\n",
    "    recurring = False    \n",
    "    task = {\n",
    "        \"task_type\": task_type,\n",
    "        \"task_name\": task_name,\n",
    "        \"params\": {\n",
    "            \"dates\": [\n",
    "                {\n",
    "                    \"startDate\": start_date_mm_dd_yyyy,\n",
    "                    \"endDate\": end_date_mm_dd_yyyy,\n",
    "                    \"recurring\": recurring\n",
    "                }\n",
    "            ],\n",
    "            \"layers\": [product_layer],\n",
    "            'output': {\n",
    "                'format': {\n",
    "                    'type': output_format\n",
    "                },\n",
    "                'projection': output_projection\n",
    "            },\n",
    "            \"geo\": geo_area_json,\n",
    "        }\n",
    "    }\n",
    "\n",
    "    task_response = requests.post(f\"{nasa_earthdata_api}task\", json=task, headers=head)\n",
    "    pprint(f\"Status Code: {task_response.status_code} {task_response.reason}\")\n",
    "    task_response_json = task_response.json()\n",
    "    pprint(f\"Task Response JSON: {task_response_json}\")\n",
    "    \n",
    "    return task_response_json"
   ]
  },
  {
   "cell_type": "code",
   "execution_count": null,
   "metadata": {},
   "outputs": [],
   "source": [
    "timestamp = time.strftime(\"%Y%m%d-%H%M%S\")\n",
    "year_product_layer_requests = {}\n",
    "static_products_layers_downloaded = []\n",
    "for year in range(2001, 2024):\n",
    "    print(f\"==================== Year: {year} ====================\")\n",
    "    for month in range(1, 13):\n",
    "        print(f\"==================== Month: {month:02} ====================\")\n",
    "        _, last_day = calendar.monthrange(year, month)\n",
    "        for product_layer in products_layers:\n",
    "            print(f\"==================== Product: {product_layer['product']} Layer: {product_layer['layer']} =================\")\n",
    "            \n",
    "            task_name = f\"canada_500m_512pixels_{product_layer['product']}_{product_layer['layer']}_{year}\"\n",
    "            static_product_layer_name = f\"{product_layer['product']}_{product_layer['layer']}\"\n",
    "            \n",
    "            if products[product_layer['product']]['TemporalGranularity'].lower() == 'static' and \\\n",
    "                static_product_layer_name in static_products_layers_downloaded:\n",
    "                    continue\n",
    "            \n",
    "            if products[product_layer['product']]['TemporalGranularity'].lower() == 'static':\n",
    "                task_name = f\"canada_500m_512pixels_{product_layer['product']}_{product_layer['layer']}\"\n",
    "            \n",
    "            task_response_json = submit_task(\n",
    "                grid_within_boundary=grid_within_boundary, \n",
    "                start_date_mm_dd_yyyy=f\"{month:02}-01-{year}\", \n",
    "                end_date_mm_dd_yyyy=f\"{month:02}-{last_day}-{year}\",\n",
    "                product_layer=product_layer,\n",
    "                task_name=f\"canada_500m_512pixels_{product_layer['product']}_{product_layer['layer']}_{year}\"\n",
    "            )\n",
    "            \n",
    "            if products[product_layer['product']]['TemporalGranularity'].lower() == 'static':\n",
    "                static_products_layers_downloaded.append(static_product_layer_name)\n",
    "            \n",
    "            year_product_layer_requests[(f\"{year}_{product_layer['product']}_{product_layer['layer']}\")] = task_response_json['task_id']\n",
    "            \n",
    "            with open(f\"data/year_product_layer_requests_{timestamp}.json\", 'w') as f:\n",
    "                json.dump(year_product_layer_requests, f)"
   ]
  },
  {
   "cell_type": "markdown",
   "metadata": {},
   "source": [
    "# Download Data\n",
    "You must wait until the data is processed.  \n",
    "You should receive an email when it is done or you can check via https://appeears.earthdatacloud.nasa.gov/explore"
   ]
  },
  {
   "cell_type": "code",
   "execution_count": null,
   "metadata": {},
   "outputs": [],
   "source": [
    "with open('data/year_product_layer_requests.json', 'r') as f:\n",
    "    year_product_layer_requests = json.load(f)"
   ]
  },
  {
   "cell_type": "code",
   "execution_count": null,
   "metadata": {},
   "outputs": [],
   "source": [
    "task_id = '796ea315-54c1-4801-bef3-7bb80bff202f' #  TODO : Use year_product_layer_requests\n",
    "bundle = requests.get(f\"{nasa_earthdata_api}bundle/{task_id}\", headers=head).json()\n",
    "bundle "
   ]
  },
  {
   "cell_type": "code",
   "execution_count": null,
   "metadata": {},
   "outputs": [],
   "source": [
    "files = {}                                                      \n",
    "for file_id in bundle['files']: \n",
    "    files[file_id['file_id']] = file_id['file_name']  \n",
    "files"
   ]
  },
  {
   "cell_type": "code",
   "execution_count": null,
   "metadata": {},
   "outputs": [],
   "source": [
    "features_dir = Path('data/features/')"
   ]
  },
  {
   "cell_type": "code",
   "execution_count": null,
   "metadata": {},
   "outputs": [],
   "source": [
    "for file_id in files.keys():\n",
    "    if not files[file_id].endswith('.nc') or \"NUMNC\" in files[file_id]:\n",
    "        continue\n",
    "    dl = requests.get(f\"{nasa_earthdata_api}bundle/{task_id}/{file_id}\", headers=head, stream=True, allow_redirects = 'True')                                # Get a stream to the bundle file\n",
    "    if files[file_id].endswith('.tif'):\n",
    "        filename = files[file_id].split('/')[1]\n",
    "    else:\n",
    "        filename = files[file_id] \n",
    "    with open(features_dir / Path(filename), 'wb') as file_id:                                                                  \n",
    "        for data in dl.iter_content(chunk_size=8192): \n",
    "            file_id.write(data) \n",
    "print(f\"Downloaded files can be found at: {features_dir}\")"
   ]
  },
  {
   "cell_type": "markdown",
   "metadata": {},
   "source": [
    "# Preview Features"
   ]
  },
  {
   "cell_type": "code",
   "execution_count": null,
   "metadata": {},
   "outputs": [],
   "source": [
    "features_ds = gdal.Open(str((features_dir / 'MOD13Q1.061_250m_aid0001.nc').resolve()))\n",
    "features_proj = features_ds.GetProjection()\n",
    "\n",
    "for subdataset in features_ds.GetSubDatasets():\n",
    "    band_ds = gdal.Open(subdataset[0])\n",
    "    band = band_ds.GetRasterBand(1)\n",
    "    band_type = gdal.GetDataTypeName(band.DataType)\n",
    "    band_min, band_max, band_mean, band_stddev = band.GetStatistics(True, True)\n",
    "    band_desc = band_ds.GetDescription().split(':')[-1]\n",
    "    print(f\"Band {band_desc}: ({band.GetYSize()},{band.GetXSize()}) Type={band_type}, Min={band_min}, Max={band_max}, Mean={band_mean}, StdDev={band_stddev}\")\n",
    "    print(f\"Band Projection : {band_ds.GetProjection()}\")\n",
    "    print(\"\")\n",
    "    \n",
    "\n",
    "    band_data = band_ds.ReadAsArray()\n",
    "\n",
    "    plt.figure(figsize=(8, 6))\n",
    "    plt.imshow(band_data.transpose((1, 2, 0)), cmap='RdYlGn')\n",
    "    plt.colorbar(label=band_desc)\n",
    "    plt.title(band_desc)\n",
    "    plt.xlabel('Width')\n",
    "    plt.ylabel('Height')\n",
    "    plt.show()"
   ]
  },
  {
   "cell_type": "markdown",
   "metadata": {},
   "source": [
    "# Download Target"
   ]
  },
  {
   "cell_type": "code",
   "execution_count": null,
   "metadata": {},
   "outputs": [],
   "source": [
    "target_dir = Path('data/target/')"
   ]
  },
  {
   "cell_type": "code",
   "execution_count": null,
   "metadata": {},
   "outputs": [],
   "source": [
    "nbac_response = requests.get(\"https://cwfis.cfs.nrcan.gc.ca/downloads/nbac/nbac_1972_2023_20240530_shp.zip\")\n",
    "zipfile.ZipFile(io.BytesIO(nbac_response.content)).extractall(target_dir)"
   ]
  },
  {
   "cell_type": "code",
   "execution_count": null,
   "metadata": {},
   "outputs": [],
   "source": [
    "target_shp = list(target_dir.glob('*.shp'))[0]\n",
    "target_shp"
   ]
  },
  {
   "cell_type": "markdown",
   "metadata": {},
   "source": [
    "# Preview Target"
   ]
  },
  {
   "cell_type": "code",
   "execution_count": null,
   "metadata": {},
   "outputs": [],
   "source": [
    "gdf = gpd.read_file(target_shp, rows=1)\n",
    "\n",
    "fig, ax = plt.subplots(figsize=(10, 10))\n",
    "gdf.plot(ax=ax, edgecolor='k', facecolor='none')\n",
    "plt.title('Subset of Target')\n",
    "plt.xlabel('Longitude')\n",
    "plt.ylabel('Latitude')\n",
    "plt.show()"
   ]
  },
  {
   "cell_type": "markdown",
   "metadata": {},
   "source": [
    "# Reproject Target"
   ]
  },
  {
   "cell_type": "code",
   "execution_count": null,
   "metadata": {},
   "outputs": [],
   "source": [
    "reprojected_target_shp = Path(target_shp.parent, f\"{target_shp.stem}_reprojected.shp\")"
   ]
  },
  {
   "cell_type": "code",
   "execution_count": null,
   "metadata": {},
   "outputs": [],
   "source": [
    "gdal.VectorTranslate(\n",
    "    str(reprojected_target_shp.resolve()), \n",
    "    str(target_shp.resolve()), \n",
    "    dstSRS='EPSG:4326',\n",
    "    reproject=True\n",
    ")"
   ]
  },
  {
   "cell_type": "markdown",
   "metadata": {},
   "source": [
    "# Preview Target"
   ]
  },
  {
   "cell_type": "code",
   "execution_count": null,
   "metadata": {},
   "outputs": [],
   "source": [
    "gdf = gpd.read_file(reprojected_target_shp, rows=1)\n",
    "\n",
    "fig, ax = plt.subplots(figsize=(10, 10))\n",
    "gdf.plot(ax=ax, edgecolor='k', facecolor='none')\n",
    "plt.title('Subset of Reprojected Target')\n",
    "plt.xlabel('Longitude')\n",
    "plt.ylabel('Latitude')\n",
    "plt.show()"
   ]
  }
 ],
 "metadata": {
  "kernelspec": {
   "display_name": "Python 3",
   "language": "python",
   "name": "python3"
  },
  "language_info": {
   "codemirror_mode": {
    "name": "ipython",
    "version": 3
   },
   "file_extension": ".py",
   "mimetype": "text/x-python",
   "name": "python",
   "nbconvert_exporter": "python",
   "pygments_lexer": "ipython3",
   "version": "3.9.19"
  }
 },
 "nbformat": 4,
 "nbformat_minor": 2
}
